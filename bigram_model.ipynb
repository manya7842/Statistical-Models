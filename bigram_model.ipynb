{
  "nbformat": 4,
  "nbformat_minor": 0,
  "metadata": {
    "colab": {
      "provenance": [],
      "authorship_tag": "ABX9TyO/xWaXDwO3lu3Ma3gNHA1/",
      "include_colab_link": true
    },
    "kernelspec": {
      "name": "python3",
      "display_name": "Python 3"
    },
    "language_info": {
      "name": "python"
    }
  },
  "cells": [
    {
      "cell_type": "markdown",
      "metadata": {
        "id": "view-in-github",
        "colab_type": "text"
      },
      "source": [
        "<a href=\"https://colab.research.google.com/github/manya7842/Statistical-Models/blob/main/bigram_model.ipynb\" target=\"_parent\"><img src=\"https://colab.research.google.com/assets/colab-badge.svg\" alt=\"Open In Colab\"/></a>"
      ]
    },
    {
      "cell_type": "code",
      "execution_count": null,
      "metadata": {
        "colab": {
          "base_uri": "https://localhost:8080/"
        },
        "id": "onAM2xpHSy4b",
        "outputId": "50b149d6-2421-4aad-8f22-e940561462d7"
      },
      "outputs": [
        {
          "output_type": "stream",
          "name": "stderr",
          "text": [
            "[nltk_data] Downloading package punkt_tab to /root/nltk_data...\n",
            "[nltk_data]   Unzipping tokenizers/punkt_tab.zip.\n"
          ]
        },
        {
          "output_type": "execute_result",
          "data": {
            "text/plain": [
              "True"
            ]
          },
          "metadata": {},
          "execution_count": 3
        }
      ],
      "source": [
        "import random\n",
        "from collections import defaultdict\n",
        "import nltk\n",
        "nltk.download('punkt_tab')"
      ]
    },
    {
      "cell_type": "code",
      "source": [
        "# Sample text corpus\n",
        "text = \"I love deep learning. I love machine learning. Machine learning is amazing.\"\n",
        "\n",
        "# Tokenize the text into words\n",
        "tokens = nltk.word_tokenize(text.lower())\n",
        "\n",
        "tokens"
      ],
      "metadata": {
        "colab": {
          "base_uri": "https://localhost:8080/"
        },
        "id": "hFdFRRoiTKAM",
        "outputId": "d1df85e2-668b-4a4b-fbfe-a8115f4c97ec"
      },
      "execution_count": null,
      "outputs": [
        {
          "output_type": "execute_result",
          "data": {
            "text/plain": [
              "['i',\n",
              " 'love',\n",
              " 'deep',\n",
              " 'learning',\n",
              " '.',\n",
              " 'i',\n",
              " 'love',\n",
              " 'machine',\n",
              " 'learning',\n",
              " '.',\n",
              " 'machine',\n",
              " 'learning',\n",
              " 'is',\n",
              " 'amazing',\n",
              " '.']"
            ]
          },
          "metadata": {},
          "execution_count": 118
        }
      ]
    },
    {
      "cell_type": "code",
      "source": [
        "bigram_counts = defaultdict(lambda: defaultdict(int))\n",
        "bigram_counts"
      ],
      "metadata": {
        "colab": {
          "base_uri": "https://localhost:8080/"
        },
        "id": "UXHZOq2pVpW6",
        "outputId": "d6e45ae9-44b9-4bed-ecb9-f3ebc1fdf26a"
      },
      "execution_count": null,
      "outputs": [
        {
          "output_type": "execute_result",
          "data": {
            "text/plain": [
              "defaultdict(<function __main__.<lambda>()>, {})"
            ]
          },
          "metadata": {},
          "execution_count": 107
        }
      ]
    },
    {
      "cell_type": "code",
      "source": [
        "for w1, w2 in zip(tokens[:-1], tokens[1:]):\n",
        "    bigram_counts[w1][w2] += 1\n",
        "\n",
        "# Let's check what we built\n",
        "bigram_counts"
      ],
      "metadata": {
        "colab": {
          "base_uri": "https://localhost:8080/"
        },
        "id": "DFth-cSwt2rQ",
        "outputId": "fa00e364-9476-4122-f9ee-a2e357b03320"
      },
      "execution_count": null,
      "outputs": [
        {
          "output_type": "execute_result",
          "data": {
            "text/plain": [
              "defaultdict(<function __main__.<lambda>()>,\n",
              "            {'i': defaultdict(int, {'love': 3}),\n",
              "             'love': defaultdict(int,\n",
              "                         {'programming': 1, 'deep': 1, 'machine': 1}),\n",
              "             'programming': defaultdict(int, {'in': 1}),\n",
              "             'in': defaultdict(int, {'python': 1}),\n",
              "             'python': defaultdict(int, {'.': 1, 'is': 1}),\n",
              "             '.': defaultdict(int, {'python': 1, 'i': 1, 'machine': 1}),\n",
              "             'is': defaultdict(int, {'great': 1, 'amazing': 1}),\n",
              "             'great': defaultdict(int, {'!': 1}),\n",
              "             'deep': defaultdict(int, {'learning': 1}),\n",
              "             'learning': defaultdict(int, {'.': 2, 'is': 1}),\n",
              "             'machine': defaultdict(int, {'learning': 2}),\n",
              "             'amazing': defaultdict(int, {'.': 1})})"
            ]
          },
          "metadata": {},
          "execution_count": 119
        }
      ]
    },
    {
      "cell_type": "code",
      "source": [
        "# Convert counts to probabilities (MLE estimation)\n",
        "bigram_probs = {w1: {w2: count / sum(next_words.values())\n",
        "                      for w2, count in next_words.items()}\n",
        "                for w1, next_words in bigram_counts.items()}\n",
        "\n",
        "bigram_probs"
      ],
      "metadata": {
        "colab": {
          "base_uri": "https://localhost:8080/"
        },
        "id": "5Dl_govdw0et",
        "outputId": "4efb4024-3565-41bc-b57f-cd93949b7ee7"
      },
      "execution_count": null,
      "outputs": [
        {
          "output_type": "execute_result",
          "data": {
            "text/plain": [
              "{'i': {'love': 1.0},\n",
              " 'love': {'programming': 0.3333333333333333,\n",
              "  'deep': 0.3333333333333333,\n",
              "  'machine': 0.3333333333333333},\n",
              " 'programming': {'in': 1.0},\n",
              " 'in': {'python': 1.0},\n",
              " 'python': {'.': 0.5, 'is': 0.5},\n",
              " '.': {'python': 0.3333333333333333,\n",
              "  'i': 0.3333333333333333,\n",
              "  'machine': 0.3333333333333333},\n",
              " 'is': {'great': 0.5, 'amazing': 0.5},\n",
              " 'great': {'!': 1.0},\n",
              " 'deep': {'learning': 1.0},\n",
              " 'learning': {'.': 0.6666666666666666, 'is': 0.3333333333333333},\n",
              " 'machine': {'learning': 1.0},\n",
              " 'amazing': {'.': 1.0}}"
            ]
          },
          "metadata": {},
          "execution_count": 120
        }
      ]
    },
    {
      "cell_type": "code",
      "source": [
        "# Helper function to generate text using the bigram model\n",
        "def generate_text(start_word, num_words):\n",
        "    sentence = [start_word]\n",
        "    for i in range(num_words - 1):\n",
        "        next_word_options = bigram_probs.get(sentence[-1], None)\n",
        "       # print(\"next_word_options \", next_word_options)\n",
        "        if not next_word_options:  # If no known next word, stop generation\n",
        "            break\n",
        "        next_word = random.choices(list(next_word_options.keys()),\n",
        "                                   weights=next_word_options.values())\n",
        "       # print(\"next_word \", i,\" \", next_word,\"\\n\")\n",
        "        sentence.append(next_word[0])\n",
        "    return \" \".join(sentence)"
      ],
      "metadata": {
        "id": "Mm-XZOLj27tO"
      },
      "execution_count": null,
      "outputs": []
    },
    {
      "cell_type": "code",
      "source": [
        "# Example: Generate a sentence starting with \"i\"\n",
        "print(generate_text(\"love\", 12))"
      ],
      "metadata": {
        "colab": {
          "base_uri": "https://localhost:8080/"
        },
        "id": "Sgga_FMm2_dg",
        "outputId": "cdd82a85-86ee-4804-8b4b-aa0e4075ddcc"
      },
      "execution_count": null,
      "outputs": [
        {
          "output_type": "stream",
          "name": "stdout",
          "text": [
            "next_word_options  {'programming': 0.3333333333333333, 'deep': 0.3333333333333333, 'machine': 0.3333333333333333}\n",
            "next_word_options  {'learning': 1.0}\n",
            "next_word_options  {'.': 0.6666666666666666, 'is': 0.3333333333333333}\n",
            "next_word_options  {'python': 0.3333333333333333, 'i': 0.3333333333333333, 'machine': 0.3333333333333333}\n",
            "next_word_options  {'learning': 1.0}\n",
            "next_word_options  {'.': 0.6666666666666666, 'is': 0.3333333333333333}\n",
            "next_word_options  {'python': 0.3333333333333333, 'i': 0.3333333333333333, 'machine': 0.3333333333333333}\n",
            "next_word_options  {'.': 0.5, 'is': 0.5}\n",
            "next_word_options  {'python': 0.3333333333333333, 'i': 0.3333333333333333, 'machine': 0.3333333333333333}\n",
            "next_word_options  {'learning': 1.0}\n",
            "next_word_options  {'.': 0.6666666666666666, 'is': 0.3333333333333333}\n",
            "love machine learning . machine learning . python . machine learning .\n"
          ]
        }
      ]
    },
    {
      "cell_type": "markdown",
      "source": [
        "Training on a book excerpt"
      ],
      "metadata": {
        "id": "JsX-Yx79RKrT"
      }
    },
    {
      "cell_type": "code",
      "source": [
        "text= '''CAPE CANAVERAL, Fla. (AP) — Stuck in space no more, NASA astronauts Butch Wilmore and Suni Williams returned to Earth on Tuesday, hitching a different ride home to close out a saga that began with a bungled test flight more than nine months ago.\n",
        "\n",
        "Their SpaceX capsule parachuted into the Gulf of Mexico in the early evening, just hours after departing the International Space Station. Splashdown occurred off the coast of Tallahassee in the Florida Panhandle, bringing their unplanned odyssey to an end.\n",
        "\n",
        "Within an hour, the astronauts were out of their capsule, waving and smiling at the cameras while being hustled away in reclining stretchers for routine medical checks\n",
        "\n",
        "It all started with a flawed Boeing test flight last spring.\n",
        "\n",
        "The two expected to be gone just a week or so after launching on Boeing’s new Starliner crew capsule on June 5. So many problems cropped up on the way to the space station that NASA eventually sent Starliner back empty and transferred the test pilots to SpaceX, pushing their homecoming into February. Then SpaceX capsule issues added another month’s delay.\n",
        "\n",
        "Sunday’s arrival of their relief crew meant Wilmore and Williams could finally leave. NASA cut them loose a little early, given the iffy weather forecast later this week. They checked out with NASA’s Nick Hague and Russia’s Alexander Gorbunov, who arrived in their own SpaceX capsule last fall with two empty seats reserved for the Starliner duo.\n",
        "\n",
        "Wilmore and Williams ended up spending 286 days in space — 278 days longer than anticipated when they launched. They circled Earth 4,576 times and traveled 121 million miles (195 million kilometers) by the time of splashdown.\n",
        "\n",
        "“On behalf of SpaceX, welcome home,” radioed SpaceX Mission Control in California.\n",
        "\n",
        "“What a ride,” replied Hague, the capsule’s commander. “I see a capsule full of grins ear to ear.”\n",
        "\n",
        "Dolphins circled the capsule as divers readied it for hoisting onto the recovery ship. Once safely on board, the side hatch was opened and the astronauts were helped out, one by one. Williams was next-to-last out, followed by Wilmore who gave two gloved thumbs-up.\n",
        "\n",
        "Wilmore and Williams’ plight captured the world’s attention, giving new meaning to the phrase “stuck at work” and turning “Butch and Suni” into household names. While other astronauts had logged longer spaceflights over the decades, none had to deal with so much uncertainty or see the length of their mission expand by so much.\n",
        "\n",
        "Wilmore and Williams quickly transitioned from guests to full-fledged station crew members, conducting experiments, fixing equipment and even spacewalking together. With 62 hours over nine spacewalks, Williams set a record: the most time spent spacewalking over a career among female astronauts.\n",
        "\n",
        "Both had lived on the orbiting lab before and knew the ropes, and brushed up on their station training before rocketing away. Williams became the station’s commander three months into their stay and held the post until earlier this month.\n",
        "\n",
        "Their mission took an unexpected twist in late January when President Donald Trump asked SpaceX founder Elon Musk to accelerate the astronauts’ return and blamed the delay on the Biden administration. The replacement crew’s brand new SpaceX capsule still wasn’t ready to fly, so SpaceX subbed it with a used one, hurrying things along by at least a few weeks.\n",
        "\n",
        "After splashdown, Musk offered his congratulations via X. NASA’s Joel Montalbano said the space agency was already looking at various options when Trump made his call to hurry the astronauts home.\n",
        "\n",
        "Even in the middle of the political storm, Wilmore and Williams continued to maintain an even keel at public appearances from orbit, casting no blame and insisting they supported NASA’s decisions from the start.\n",
        "\n",
        "NASA hired SpaceX and Boeing after the shuttle program ended, in order to have two competing U.S. companies for transporting astronauts to and from the space station until it’s abandoned in 2030 and steered to a fiery reentry. By then, it will have been up there more than three decades; the plan is to replace it with privately run stations so NASA can focus on moon and Mars expeditions.\n",
        "\n",
        "“This has been nine months in the making, and I couldn’t be prouder of our team’s versatility, our team’s ability to adapt and really build for the future of human spaceflight,” NASA’s commercial crew program manager Steve Stich said.\n",
        "\n",
        "With Starliner still under engineering investigation, SpaceX will launch the next crew for NASA as soon as July. Stich said NASA will have until summer to decide whether the crew after that one will be flown by SpaceX or Boeing — or whether Boeing will have to prove itself by flying cargo before people again.\n",
        "\n",
        "Both retired Navy captains, Wilmore and Williams stressed they didn’t mind spending more time in space — a prolonged deployment reminiscent of their military days. But they acknowledged it was tough on their families.\n",
        "\n",
        "Wilmore, 62, missed most of his younger daughter’s senior year of high school; his older daughter is in college. Williams, 59, had to settle for internet calls from space to her husband, mother and other relatives.\n",
        "\n",
        "“We have not been worried about her because she has been in good spirits,” said Falguni Pandya, who is married to Williams’ cousin. “She was definitely ready to come home.”\n",
        "\n",
        "Prayers for Williams and Wilmore were offered up at 21 Hindu temples in the U.S. in the months leading up to their return, said organizer Tejal Shah, president of World Hindu Council of America. Williams has spoken frequently about her Indian and Slovenian heritage. Prayers for their safe return also came from Wilmore’s Baptist church in Houston, where he serves as an elder.\n",
        "\n",
        "Crowds in Jhulasan, the ancestral home of Williams’ father, danced and celebrated in a temple and performed rituals during the homecoming.\n",
        "\n",
        "After returning in the gulf — Trump in January signed an executive order renaming the body of water Gulf of America — Wilmore and Williams will have to wait until they’re off the SpaceX recovery ship and flown to Houston before reuniting with their loved ones. The three NASA astronauts will be checked out by flight surgeons as they adjust to gravity, officials said, and should be allowed to go home after a day or two.\n",
        "\n",
        "\n",
        "'''\n",
        "\n",
        "tokens = nltk.word_tokenize(text.lower())"
      ],
      "metadata": {
        "id": "gQRG5iRNRQZ_"
      },
      "execution_count": null,
      "outputs": []
    },
    {
      "cell_type": "code",
      "source": [
        "bigram_counts = defaultdict(lambda: defaultdict(int))\n",
        "bigram_counts"
      ],
      "metadata": {
        "colab": {
          "base_uri": "https://localhost:8080/"
        },
        "id": "RPQ6K_byR99o",
        "outputId": "020843b2-9d89-45c6-a076-ba4887d73d77"
      },
      "execution_count": null,
      "outputs": [
        {
          "output_type": "execute_result",
          "data": {
            "text/plain": [
              "defaultdict(<function __main__.<lambda>()>, {})"
            ]
          },
          "metadata": {},
          "execution_count": 5
        }
      ]
    },
    {
      "cell_type": "code",
      "source": [
        "for w1, w2 in zip(tokens[:-1], tokens[1:]):\n",
        "  bigram_counts[w1][w2] += 1\n",
        "\n",
        "bigram_probs= {w1: { w2: count/sum(next_words.values())\n",
        "                      for w2, count in next_words.items()}\n",
        "                for w1, next_words in bigram_counts.items()}\n",
        "\n",
        "def generate_text(start_word, num_of_words):\n",
        "  sentence= [start_word]\n",
        "  for _ in range(num_of_words-1):\n",
        "    next_word_options= bigram_probs.get(sentence[-1], None)\n",
        "    if not next_word_options:\n",
        "      break;\n",
        "    next_word= random.choices(list(next_word_options.keys()), weights= next_word_options.values())[0]\n",
        "    sentence.append(next_word)\n",
        "  return \" \".join(sentence)"
      ],
      "metadata": {
        "id": "v8ycAo9jSSrY"
      },
      "execution_count": null,
      "outputs": []
    },
    {
      "cell_type": "code",
      "source": [
        "print(generate_text(\"nasa\", 30))"
      ],
      "metadata": {
        "colab": {
          "base_uri": "https://localhost:8080/"
        },
        "id": "3KbzysvfSYXA",
        "outputId": "006e8544-c64d-4452-fc04-7138d2154c13"
      },
      "execution_count": null,
      "outputs": [
        {
          "output_type": "stream",
          "name": "stdout",
          "text": [
            "nasa ’ s ability to maintain an executive order renaming the ancestral home , wilmore and williams was already looking at least a ride home . wilmore and williams became\n"
          ]
        }
      ]
    },
    {
      "cell_type": "code",
      "source": [],
      "metadata": {
        "id": "whs_00FVS2qN"
      },
      "execution_count": null,
      "outputs": []
    }
  ]
}