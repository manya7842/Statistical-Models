{
 "cells": [
  {
   "cell_type": "code",
   "execution_count": 7,
   "id": "cd387d91-67da-45bc-a97e-62f0e98f0b49",
   "metadata": {},
   "outputs": [],
   "source": [
    "import torch"
   ]
  },
  {
   "cell_type": "code",
   "execution_count": 3,
   "id": "4692ce3e-e96b-475e-8e4e-fbfd7a24bc69",
   "metadata": {},
   "outputs": [
    {
     "data": {
      "text/plain": [
       "torch.Size([2, 3, 4, 10])"
      ]
     },
     "execution_count": 3,
     "metadata": {},
     "output_type": "execute_result"
    }
   ],
   "source": [
    "a= torch.rand(2,3, 4, 5, generator=torch.manual_seed(3))\n",
    "b= torch.rand(2,3, 5, 10, generator=torch.manual_seed(3))\n",
    "torch.matmul(a,b).shape"
   ]
  },
  {
   "cell_type": "code",
   "execution_count": 5,
   "id": "4bc62912-0edb-4435-ad2b-a8c8db612ac5",
   "metadata": {},
   "outputs": [
    {
     "data": {
      "text/plain": [
       "torch.Size([2, 4, 5])"
      ]
     },
     "execution_count": 5,
     "metadata": {},
     "output_type": "execute_result"
    }
   ],
   "source": [
    "a= torch.rand(2, 4, 5, generator=torch.manual_seed(3))\n",
    "b= torch.rand(5, generator=torch.manual_seed(3))\n",
    "(a+b).shape"
   ]
  },
  {
   "cell_type": "code",
   "execution_count": 7,
   "id": "adf6a8c2-9ada-4447-b58a-510d78862f32",
   "metadata": {},
   "outputs": [
    {
     "data": {
      "text/plain": [
       "torch.Size([2, 3, 7])"
      ]
     },
     "execution_count": 7,
     "metadata": {},
     "output_type": "execute_result"
    }
   ],
   "source": [
    "a= torch.rand(2, 3, 4, generator=torch.manual_seed(2))\n",
    "layer= torch.nn.Linear(4,7)\n",
    "layer(a).shape"
   ]
  },
  {
   "cell_type": "code",
   "execution_count": 9,
   "id": "b8baca42-1879-4273-a2ad-a4f9f3a1c347",
   "metadata": {},
   "outputs": [
    {
     "data": {
      "text/plain": [
       "torch.Size([2, 4, 25])"
      ]
     },
     "execution_count": 9,
     "metadata": {},
     "output_type": "execute_result"
    }
   ],
   "source": [
    "#building a linear layer\n",
    "class Linear:\n",
    "  def __init__(self, in_features: int, out_features: int, bias =True):\n",
    "    self.weight= torch.rand(in_features, out_features)\n",
    "    self.bias = bias \n",
    "    self.bias_weight= torch.rand(out_features)\n",
    "\n",
    "  def __call__(self, input: torch.Tensor):\n",
    "    output = torch.matmul(input, self.weight)\n",
    "    if self.bias:\n",
    "        output += self.bias_weight;\n",
    "    return output\n",
    "\n",
    "layer= Linear (10,25)\n",
    "a= torch.rand(2,4,10, generator= torch.manual_seed(2))\n",
    "layer(a).shape"
   ]
  }
 ],
 "metadata": {
  "kernelspec": {
   "display_name": "Python 3 (ipykernel)",
   "language": "python",
   "name": "python3"
  },
  "language_info": {
   "codemirror_mode": {
    "name": "ipython",
    "version": 3
   },
   "file_extension": ".py",
   "mimetype": "text/x-python",
   "name": "python",
   "nbconvert_exporter": "python",
   "pygments_lexer": "ipython3",
   "version": "3.12.4"
  }
 },
 "nbformat": 4,
 "nbformat_minor": 5
}
